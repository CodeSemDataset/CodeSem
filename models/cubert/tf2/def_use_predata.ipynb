{
 "cells": [
  {
   "cell_type": "code",
   "execution_count": 88,
   "id": "9438ffcb",
   "metadata": {},
   "outputs": [],
   "source": [
    "import os\n",
    "import csv\n",
    "from csv import reader\n",
    "import random\n",
    "\n",
    "max_seq_length = 128\n",
    "mysql_path = '../data/def_use/out/mysql_index.tsv'\n",
    "outpath = '../data/def_use/mysql/'"
   ]
  },
  {
   "cell_type": "code",
   "execution_count": 89,
   "id": "cfe05afc",
   "metadata": {},
   "outputs": [],
   "source": [
    "def convertString(use):\n",
    "  use_list = list(map(int, use.split()))\n",
    "  pos_list = [u for u in use_list if (u >= 0 and u <= max_seq_length)]\n",
    "  if len(pos_list) > 0:\n",
    "    return ' '.join(map(str, pos_list))\n",
    "  else:\n",
    "    return 'None'"
   ]
  },
  {
   "cell_type": "code",
   "execution_count": 90,
   "id": "0756a2d5",
   "metadata": {},
   "outputs": [],
   "source": [
    "def shuffle_and_divide(fpath, outpath):\n",
    "  if not os.path.exists(os.path.dirname(outpath)):\n",
    "    try:\n",
    "      os.makedirs(os.path.dirname(outpath))\n",
    "    except OSError as exc:\n",
    "      if exc.errno != errno.EEXIST:\n",
    "        raise\n",
    "\n",
    "  with open(outpath+'train.tsv', 'w', newline='') as f_train, open(outpath+'dev.tsv', 'w', newline='') as f_dev, open(outpath+'test.tsv','w', newline='') as f_test:\n",
    "      tsv_train = csv.writer(f_train, delimiter='\\t')\n",
    "      tsv_dev = csv.writer(f_dev, delimiter='\\t')\n",
    "      tsv_test = csv.writer(f_test, delimiter='\\t')\n",
    "\n",
    "      tsv_train.writerow(['vocab_val_seq', 'def1_index', 'use1_index', 'def2_index', 'use2_index', 'label'])\n",
    "      tsv_dev.writerow(['vocab_val_seq', 'def1_index', 'use1_index', 'def2_index', 'use2_index', 'label'])\n",
    "      tsv_test.writerow(['vocab_val_seq', 'def1_index', 'use1_index', 'def2_index', 'use2_index', 'label'])\n",
    "\n",
    "      fpath_shuffled = os.path.splitext(fpath)[0] + '_shuffled.tsv'\n",
    "      with open(fpath, 'r') as f_read:\n",
    "        data = f_read.readlines()\n",
    "        header, rows = data[0], data[1:]\n",
    "        filtered_rows = []\n",
    "        for row in rows:\n",
    "          line = row.strip().split(\"\\t\")\n",
    "          text = list(map(int, line[1].split()))[:max_seq_length]\n",
    "          def1 = line[2]\n",
    "          def2 = line[4]\n",
    "          use1 = convertString(line[3])\n",
    "          use2 = convertString(line[5])\n",
    "          label = line[6]\n",
    "          if (int(def1) < max_seq_length and int(def2) < max_seq_length):\n",
    "            filtered_rows.append([' '.join(map(str, text)), def1, use1, def2, use2, label])\n",
    "        random.shuffle(filtered_rows)\n",
    "        print(len(filtered_rows))\n",
    "              \n",
    "      with open(outpath+'test_labels.txt' ,'w') as f_labels:\n",
    "        i = 0\n",
    "        for row in filtered_rows:\n",
    "          if i <= 0.7 * len(filtered_rows):\n",
    "            tsv_train.writerow(row)\n",
    "          elif i <= 0.85 * len(filtered_rows):\n",
    "            tsv_dev.writerow(row)\n",
    "          else:\n",
    "            tsv_test.writerow(row)\n",
    "            f_labels.write(row[-1] + ' ')\n",
    "          i += 1"
   ]
  },
  {
   "cell_type": "code",
   "execution_count": 91,
   "id": "ecba11e8",
   "metadata": {},
   "outputs": [
    {
     "name": "stdout",
     "output_type": "stream",
     "text": [
      "479\n"
     ]
    }
   ],
   "source": [
    "shuffle_and_divide(mysql_path, outpath)"
   ]
  }
 ],
 "metadata": {
  "kernelspec": {
   "display_name": "Python 3",
   "language": "python",
   "name": "python3"
  },
  "language_info": {
   "codemirror_mode": {
    "name": "ipython",
    "version": 3
   },
   "file_extension": ".py",
   "mimetype": "text/x-python",
   "name": "python",
   "nbconvert_exporter": "python",
   "pygments_lexer": "ipython3",
   "version": "3.8.8"
  }
 },
 "nbformat": 4,
 "nbformat_minor": 5
}
